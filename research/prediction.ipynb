{
 "cells": [
  {
   "cell_type": "code",
   "execution_count": 2,
   "id": "0b26c88b",
   "metadata": {},
   "outputs": [],
   "source": [
    "import os "
   ]
  },
  {
   "cell_type": "code",
   "execution_count": 3,
   "id": "429f22fa",
   "metadata": {},
   "outputs": [
    {
     "data": {
      "text/plain": [
       "'c:\\\\code\\\\ML\\\\time_series_forecast\\\\time-series-forecast\\\\research'"
      ]
     },
     "execution_count": 3,
     "metadata": {},
     "output_type": "execute_result"
    }
   ],
   "source": [
    "%pwd"
   ]
  },
  {
   "cell_type": "code",
   "execution_count": 4,
   "id": "c3bce9bc",
   "metadata": {},
   "outputs": [],
   "source": [
    "os.chdir('../')"
   ]
  },
  {
   "cell_type": "code",
   "execution_count": 5,
   "id": "d35fc7af",
   "metadata": {},
   "outputs": [
    {
     "data": {
      "text/plain": [
       "'c:\\\\code\\\\ML\\\\time_series_forecast\\\\time-series-forecast'"
      ]
     },
     "execution_count": 5,
     "metadata": {},
     "output_type": "execute_result"
    }
   ],
   "source": [
    "%pwd"
   ]
  },
  {
   "cell_type": "code",
   "execution_count": 7,
   "id": "d6b1d0db",
   "metadata": {},
   "outputs": [],
   "source": [
    "from dataclasses import dataclass\n",
    "from pathlib import Path\n",
    "@dataclass \n",
    "class Prediction:\n",
    "   auto_arima : Path\n",
    "   prophet : Path\n",
    "   "
   ]
  },
  {
   "cell_type": "code",
   "execution_count": 8,
   "id": "9e746764",
   "metadata": {},
   "outputs": [],
   "source": [
    "#configuration"
   ]
  },
  {
   "cell_type": "code",
   "execution_count": 9,
   "id": "acb190a2",
   "metadata": {},
   "outputs": [],
   "source": [
    "from src.time_series.constants import *\n",
    "from src.time_series.utils.common import create_directories , read_yaml\n",
    "from src.time_series.entity.config_entity import DataIngestionconfig,EDA,Model,Prediction\n",
    "\n",
    "\n",
    "\n",
    "class ConfigurationManager:\n",
    "    def __init__(self,config_file_path=CONFIG_FILE_PATH,params_file_path=PARAMS_FILE_PATH):\n",
    "        self.config = read_yaml(config_file_path)\n",
    "        self.params = read_yaml(params_file_path)\n",
    "        create_directories([self.config.artifacts_root])\n",
    "\n",
    "    def get_data_ingestion_config(self)->DataIngestionconfig:\n",
    "        config = self.config.data_ingestion\n",
    "        data_ingestion_config = DataIngestionconfig(root_dir= config.root_dir,source_url=config.source_url,local_data_file=config.local_data_file)\n",
    "        return data_ingestion_config\n",
    "    def get_eda_config(self)->EDA:\n",
    "        config = self.config.EDA\n",
    "        create_directories([config.report_path])\n",
    "        create_directories([config.data_output])\n",
    "        eda_config = EDA(data_path= config.data_path,report_path=config.report_path,data_output=config.data_output)\n",
    "        \n",
    "        return eda_config\n",
    "    def get_model_config(self)->Model:\n",
    "        config = self.config.model\n",
    "        create_directories([config.report])\n",
    "        model_config = Model(data_path=config.data_path,report=config.report,model_save_path= config.model_save_path)\n",
    "        return model_config\n",
    "    def get_prediction_config(self)-> Prediction:\n",
    "        config = self.config.prediction\n",
    "        prediction_config = Prediction(auto_arima= config.auto_arima , prophet= config.prophet)\n",
    "        return prediction_config "
   ]
  },
  {
   "cell_type": "code",
   "execution_count": 10,
   "id": "82e73d24",
   "metadata": {},
   "outputs": [],
   "source": [
    "#component"
   ]
  },
  {
   "cell_type": "code",
   "execution_count": 13,
   "id": "be466756",
   "metadata": {},
   "outputs": [],
   "source": [
    "import pandas as pd\n",
    "import joblib\n",
    "import os\n",
    "import matplotlib.pyplot as plt\n",
    "import io\n",
    "from prophet import Prophet\n",
    "from flask import send_file\n",
    "\n",
    "class PredictionComponent:\n",
    "    def __init__(self,config = Prediction):\n",
    "        self.config = config\n",
    "\n",
    "    def prediction_with_auto_arima(self,data:pd.DataFrame , model_path : Path, periods : int):\n",
    "        model = joblib.load(model_path)\n",
    "        forecast = model.predict(n_periods = periods)\n",
    "\n",
    "        # Generate future index\n",
    "        last_date = data.index[-1]\n",
    "        freq = pd.infer_freq(data.index) or 'MS'\n",
    "        forecast_index = pd.date_range(start=last_date + pd.tseries.frequencies.to_offset(freq),\n",
    "                                    periods=periods, freq=freq)\n",
    "        forecast_series = pd.Series(forecast, index=forecast_index)\n",
    "\n",
    "        # Plot\n",
    "        plt.figure(figsize=(10, 5))\n",
    "        plt.plot(data, label=\"Historical\")\n",
    "        plt.plot(forecast_series, label=\"Forecast\", color='orange')\n",
    "        plt.xlabel(\"Date\")\n",
    "        plt.ylabel(\"Value\")\n",
    "        plt.title(\"Auto ARIMA Forecast\")\n",
    "        plt.legend()\n",
    "        plt.grid(True)\n",
    "\n",
    "        # Save to in-memory buffer\n",
    "        buf = io.BytesIO()\n",
    "        plt.savefig(buf, format='png')\n",
    "        buf.seek(0)\n",
    "        plt.clf()\n",
    "\n",
    "        # Return image as response\n",
    "        return send_file(buf, mimetype='image/png')\n",
    "    \n",
    "\n",
    "\n",
    "    def prediction_with_prophet(self,data: pd.DataFrame, periods: int):\n",
    "        # Prepare the data\n",
    "        df = data.reset_index().rename(columns={'Month': 'ds', 'passengers': 'y'})\n",
    "\n",
    "        # Train the model\n",
    "        model = Prophet(weekly_seasonality=False, yearly_seasonality=True, changepoint_prior_scale=0.01)\n",
    "        model.fit(df)\n",
    "\n",
    "        # Make future dataframe and forecast\n",
    "        future = model.make_future_dataframe(periods=periods, freq='MS')\n",
    "        forecast = model.predict(future)\n",
    "\n",
    "        # Plot forecast\n",
    "        fig = model.plot(forecast)\n",
    "        fig.suptitle(\"Prophet Forecast\", fontsize=16)\n",
    "        plt.xlabel(\"Date\")\n",
    "        plt.ylabel(\"Passengers\")\n",
    "\n",
    "        # Save plot to in-memory buffer\n",
    "        buf = io.BytesIO()\n",
    "        fig.savefig(buf, format='png')\n",
    "        buf.seek(0)\n",
    "        plt.close(fig)\n",
    "\n",
    "        return buf\n",
    "            "
   ]
  },
  {
   "cell_type": "code",
   "execution_count": null,
   "id": "223bd039",
   "metadata": {},
   "outputs": [],
   "source": []
  }
 ],
 "metadata": {
  "kernelspec": {
   "display_name": "venv",
   "language": "python",
   "name": "python3"
  },
  "language_info": {
   "codemirror_mode": {
    "name": "ipython",
    "version": 3
   },
   "file_extension": ".py",
   "mimetype": "text/x-python",
   "name": "python",
   "nbconvert_exporter": "python",
   "pygments_lexer": "ipython3",
   "version": "3.10.10"
  }
 },
 "nbformat": 4,
 "nbformat_minor": 5
}
