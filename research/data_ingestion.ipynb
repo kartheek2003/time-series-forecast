{
 "cells": [
  {
   "cell_type": "code",
   "execution_count": 1,
   "id": "ed0d6a5f",
   "metadata": {},
   "outputs": [],
   "source": [
    "import os"
   ]
  },
  {
   "cell_type": "code",
   "execution_count": 2,
   "id": "7469e766",
   "metadata": {},
   "outputs": [
    {
     "data": {
      "text/plain": [
       "'c:\\\\code\\\\ML\\\\time_series_forecast\\\\time-series-forecast\\\\research'"
      ]
     },
     "execution_count": 2,
     "metadata": {},
     "output_type": "execute_result"
    }
   ],
   "source": [
    "%pwd"
   ]
  },
  {
   "cell_type": "code",
   "execution_count": 3,
   "id": "5eed3a2e",
   "metadata": {},
   "outputs": [],
   "source": [
    "os.chdir('../')"
   ]
  },
  {
   "cell_type": "code",
   "execution_count": 14,
   "id": "48de381c",
   "metadata": {},
   "outputs": [
    {
     "data": {
      "text/plain": [
       "'c:\\\\code\\\\ML\\\\time_series_forecast\\\\time-series-forecast'"
      ]
     },
     "execution_count": 14,
     "metadata": {},
     "output_type": "execute_result"
    }
   ],
   "source": [
    "%pwd"
   ]
  },
  {
   "cell_type": "code",
   "execution_count": 8,
   "id": "d02d0899",
   "metadata": {},
   "outputs": [
    {
     "name": "stdout",
     "output_type": "stream",
     "text": [
      "Collecting pandas\n",
      "  Using cached pandas-2.3.0-cp310-cp310-win_amd64.whl (11.1 MB)\n",
      "Collecting numpy>=1.22.4\n",
      "  Using cached numpy-2.2.6-cp310-cp310-win_amd64.whl (12.9 MB)\n",
      "Requirement already satisfied: python-dateutil>=2.8.2 in c:\\code\\ml\\time_series_forecast\\time-series-forecast\\venv\\lib\\site-packages (from pandas) (2.9.0.post0)\n",
      "Collecting pytz>=2020.1\n",
      "  Using cached pytz-2025.2-py2.py3-none-any.whl (509 kB)\n",
      "Collecting tzdata>=2022.7\n",
      "  Using cached tzdata-2025.2-py2.py3-none-any.whl (347 kB)\n",
      "Requirement already satisfied: six>=1.5 in c:\\code\\ml\\time_series_forecast\\time-series-forecast\\venv\\lib\\site-packages (from python-dateutil>=2.8.2->pandas) (1.17.0)\n",
      "Installing collected packages: pytz, tzdata, numpy, pandas\n",
      "Successfully installed numpy-2.2.6 pandas-2.3.0 pytz-2025.2 tzdata-2025.2\n",
      "Note: you may need to restart the kernel to use updated packages.\n"
     ]
    },
    {
     "name": "stderr",
     "output_type": "stream",
     "text": [
      "\n",
      "[notice] A new release of pip available: 22.3.1 -> 25.1.1\n",
      "[notice] To update, run: python.exe -m pip install --upgrade pip\n"
     ]
    }
   ],
   "source": [
    "pip install pandas\n"
   ]
  },
  {
   "cell_type": "code",
   "execution_count": 6,
   "id": "cd44a4ec",
   "metadata": {},
   "outputs": [],
   "source": [
    "#entity \n",
    "from dataclasses import dataclass\n",
    "from pathlib import Path\n",
    "@dataclass\n",
    "class DataIngestionconfig:\n",
    "  root_dir : Path\n",
    "  source_url : str\n",
    "  local_data_file : Path"
   ]
  },
  {
   "cell_type": "code",
   "execution_count": 18,
   "id": "96356260",
   "metadata": {},
   "outputs": [],
   "source": [
    "# configuration\n",
    "from src.time_series.constants import *\n",
    "from src.time_series.utils.common import create_directories , read_yaml"
   ]
  },
  {
   "cell_type": "code",
   "execution_count": 19,
   "id": "f01943b3",
   "metadata": {},
   "outputs": [],
   "source": [
    "class ConfigurationManager:\n",
    "    def __init__(self,config_file_path=CONFIG_FILE_PATH,params_file_path=PARAMS_FILE_PATH):\n",
    "        self.config = read_yaml(config_file_path)\n",
    "        self.params = read_yaml(params_file_path)\n",
    "        create_directories([self.config.artifacts_root])\n",
    "\n",
    "    def get_data_ingestion_config(self)->DataIngestionconfig:\n",
    "        config = self.config.data_ingestion\n",
    "        data_ingestion_config = DataIngestionconfig(root_dir= config.root_dir,source_url=config.source_url,local_data_file=config.local_data_file)\n",
    "        return data_ingestion_config"
   ]
  },
  {
   "cell_type": "code",
   "execution_count": 20,
   "id": "2e908ff3",
   "metadata": {},
   "outputs": [],
   "source": [
    "#components"
   ]
  },
  {
   "cell_type": "code",
   "execution_count": 22,
   "id": "04c3f83e",
   "metadata": {},
   "outputs": [],
   "source": [
    "import os\n",
    "import urllib.request \n",
    "import zipfile\n",
    "from src.time_series.logger import logger\n",
    "import requests\n",
    "class DataIngestionComponent:\n",
    "    def __init__(self,config:DataIngestionconfig):\n",
    "        self.config = config\n",
    "\n",
    "    def download_file(self):\n",
    "        url=self.config.source_url\n",
    "        output_path=self.config.local_data_file\n",
    "        os.makedirs(os.path.dirname(output_path), exist_ok=True)\n",
    "        logger.info(f\"Starting download from {self.config.source_url}...\")\n",
    "        try:\n",
    "            with requests.get(url, stream=True) as r:\n",
    "                r.raise_for_status()\n",
    "                with open(output_path, 'wb') as f:\n",
    "                    for chunk in r.iter_content(chunk_size=8192):\n",
    "                        if chunk:\n",
    "                            f.write(chunk)\n",
    "            print(f\"File successfully downloaded to: {output_path}\")\n",
    "        except Exception as e:\n",
    "            print(f\"Download failed: {e}\")\n",
    "        return self.config.local_data_file"
   ]
  },
  {
   "cell_type": "code",
   "execution_count": 23,
   "id": "c8141e5c",
   "metadata": {},
   "outputs": [],
   "source": [
    "#pipeline"
   ]
  },
  {
   "cell_type": "code",
   "execution_count": 25,
   "id": "5f6d248d",
   "metadata": {},
   "outputs": [
    {
     "name": "stdout",
     "output_type": "stream",
     "text": [
      "[2025-07-02 21:08:37,644: INFO: common: yaml file: config\\config.yaml loaded successfully]\n",
      "[2025-07-02 21:08:38,028: INFO: common: yaml file: params.yaml loaded successfully]\n",
      "[2025-07-02 21:08:38,045: INFO: common: created directory at: artifacts]\n",
      "[2025-07-02 21:08:38,053: INFO: 3277893088: Starting download from https://raw.githubusercontent.com/jbrownlee/Datasets/master/airline-passengers.csv...]\n",
      "File successfully downloaded to: artifacts/data_ingestion/airline.csv\n"
     ]
    }
   ],
   "source": [
    "try :\n",
    "    config = ConfigurationManager()\n",
    "    data_ingestion_config = config.get_data_ingestion_config()\n",
    "    data_ingestion_comp = DataIngestionComponent(config=data_ingestion_config)\n",
    "    data_ingestion_comp.download_file()\n",
    "except Exception as e:\n",
    "    raise e"
   ]
  },
  {
   "cell_type": "code",
   "execution_count": null,
   "id": "82a77518",
   "metadata": {},
   "outputs": [],
   "source": []
  }
 ],
 "metadata": {
  "kernelspec": {
   "display_name": "venv",
   "language": "python",
   "name": "python3"
  },
  "language_info": {
   "codemirror_mode": {
    "name": "ipython",
    "version": 3
   },
   "file_extension": ".py",
   "mimetype": "text/x-python",
   "name": "python",
   "nbconvert_exporter": "python",
   "pygments_lexer": "ipython3",
   "version": "3.10.10"
  }
 },
 "nbformat": 4,
 "nbformat_minor": 5
}
