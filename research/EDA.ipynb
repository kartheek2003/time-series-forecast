{
 "cells": [
  {
   "cell_type": "code",
   "execution_count": 1,
   "id": "f92e2ee8",
   "metadata": {},
   "outputs": [],
   "source": [
    "import os"
   ]
  },
  {
   "cell_type": "code",
   "execution_count": 2,
   "id": "df648a13",
   "metadata": {},
   "outputs": [
    {
     "data": {
      "text/plain": [
       "'c:\\\\code\\\\ML\\\\time_series_forecast\\\\time-series-forecast\\\\research'"
      ]
     },
     "execution_count": 2,
     "metadata": {},
     "output_type": "execute_result"
    }
   ],
   "source": [
    "%pwd"
   ]
  },
  {
   "cell_type": "code",
   "execution_count": 3,
   "id": "37900c84",
   "metadata": {},
   "outputs": [],
   "source": [
    "os.chdir('../')"
   ]
  },
  {
   "cell_type": "code",
   "execution_count": 4,
   "id": "7ec69fa8",
   "metadata": {},
   "outputs": [
    {
     "data": {
      "text/plain": [
       "'c:\\\\code\\\\ML\\\\time_series_forecast\\\\time-series-forecast'"
      ]
     },
     "execution_count": 4,
     "metadata": {},
     "output_type": "execute_result"
    }
   ],
   "source": [
    "%pwd"
   ]
  },
  {
   "cell_type": "code",
   "execution_count": 5,
   "id": "c8e870a2",
   "metadata": {},
   "outputs": [],
   "source": [
    "#config.yaml\n"
   ]
  },
  {
   "cell_type": "code",
   "execution_count": 6,
   "id": "508c6d5b",
   "metadata": {},
   "outputs": [],
   "source": [
    "#config entity"
   ]
  },
  {
   "cell_type": "code",
   "execution_count": 7,
   "id": "11c56d6d",
   "metadata": {},
   "outputs": [],
   "source": [
    "from dataclasses import dataclass\n",
    "from pathlib import Path\n",
    "@dataclass\n",
    "class EDA :\n",
    "    data_path : Path\n",
    "    report_path : Path\n",
    "    data_output : Path"
   ]
  },
  {
   "cell_type": "code",
   "execution_count": 8,
   "id": "140a1ae4",
   "metadata": {},
   "outputs": [],
   "source": [
    "#configuration\n"
   ]
  },
  {
   "cell_type": "code",
   "execution_count": 9,
   "id": "451d2939",
   "metadata": {},
   "outputs": [],
   "source": [
    "from src.time_series.constants import *\n",
    "from src.time_series.utils.common import create_directories , read_yaml\n",
    "from src.time_series.entity.config_entity import DataIngestionconfig\n",
    "\n",
    "\n",
    "\n",
    "class ConfigurationManager:\n",
    "    def __init__(self,config_file_path=CONFIG_FILE_PATH,params_file_path=PARAMS_FILE_PATH):\n",
    "        self.config = read_yaml(config_file_path)\n",
    "        self.params = read_yaml(params_file_path)\n",
    "        create_directories([self.config.artifacts_root])\n",
    "\n",
    "    def get_data_ingestion_config(self)->DataIngestionconfig:\n",
    "        config = self.config.data_ingestion\n",
    "        data_ingestion_config = DataIngestionconfig(root_dir= config.root_dir,source_url=config.source_url,local_data_file=config.local_data_file)\n",
    "        return data_ingestion_config\n",
    "    def get_eda_config(self)->EDA:\n",
    "        config = self.config.EDA\n",
    "        create_directories([config.report_path])\n",
    "        create_directories([config.data_output])\n",
    "        eda_config = EDA(data_path= config.data_path,report_path=config.report_path,data_output=config.data_output)\n",
    "        \n",
    "        return eda_config\n",
    "    "
   ]
  },
  {
   "cell_type": "code",
   "execution_count": 11,
   "id": "71799765",
   "metadata": {},
   "outputs": [],
   "source": [
    "#component\n",
    "import pandas as pd"
   ]
  },
  {
   "cell_type": "code",
   "execution_count": 18,
   "id": "58c3b843",
   "metadata": {},
   "outputs": [],
   "source": [
    "import pandas as pd\n",
    "import matplotlib.pyplot as plt\n",
    "from statsmodels.tsa.seasonal import seasonal_decompose\n",
    "class EDAComponent:\n",
    "    def __init__(self,config:EDA):\n",
    "        self.config = config\n",
    "\n",
    "    def load_data(self):\n",
    "        if not os.path.exists(self.config.data_path):\n",
    "            raise FileNotFoundError(f\"Input file not found: {self.config.data_path}\")\n",
    "        return pd.read_csv(self.config.data_path,parse_dates=['Month'], index_col='Month')\n",
    "    def get_eda(self):\n",
    "        df = self.load_data()\n",
    "        df.columns = ['passengers']\n",
    "        with open(os.path.join(self.config.report_path, 'data_report.txt'), 'w') as f:\n",
    "            f.write(\"Data Head:\\n\")\n",
    "            f.write(df.head().to_string())\n",
    "            f.write(\"\\n\\n Column-wise Count:\\n\")\n",
    "            f.write(df.count().to_string())\n",
    "            f.write(\"\\n\\n Total Rows:\\n\")\n",
    "            f.write(str(len(df)))\n",
    "\n",
    "        #time series plot \n",
    "        plt.figure(figsize=(10,5))\n",
    "        plt.plot(df,label = 'monthly passengers')\n",
    "        plt.xlabel('Date')\n",
    "        plt.ylabel('Number of Passengers')\n",
    "        plt.legend()\n",
    "        plt.grid(True)\n",
    "        plt.savefig(os.path.join(self.config.report_path,'plot.png'))\n",
    "        plt.clf()\n",
    "\n",
    "        #seasonal decompose\n",
    "        result = seasonal_decompose(df, model='multiplicative')\n",
    "        fig = result.plot()\n",
    "        fig.set_size_inches(10, 8)\n",
    "        plt.tight_layout()\n",
    "        plt.savefig(os.path.join(self.config.report_path, 'seasonal_decompose.png'))\n",
    "        plt.clf()\n",
    "\n"
   ]
  },
  {
   "cell_type": "code",
   "execution_count": 19,
   "id": "2b1cc791",
   "metadata": {},
   "outputs": [],
   "source": [
    "#pipeline"
   ]
  },
  {
   "cell_type": "code",
   "execution_count": 20,
   "id": "d0b46bee",
   "metadata": {},
   "outputs": [
    {
     "name": "stdout",
     "output_type": "stream",
     "text": [
      "[2025-07-02 22:07:27,074: INFO: common: yaml file: config\\config.yaml loaded successfully]\n",
      "[2025-07-02 22:07:27,077: INFO: common: yaml file: params.yaml loaded successfully]\n",
      "[2025-07-02 22:07:27,078: INFO: common: created directory at: artifacts]\n",
      "[2025-07-02 22:07:27,079: INFO: common: created directory at: artifacts/EDA/report]\n",
      "[2025-07-02 22:07:27,081: INFO: common: created directory at: artifacts/EDA]\n"
     ]
    },
    {
     "data": {
      "text/plain": [
       "<Figure size 1000x500 with 0 Axes>"
      ]
     },
     "metadata": {},
     "output_type": "display_data"
    },
    {
     "data": {
      "text/plain": [
       "<Figure size 1000x800 with 0 Axes>"
      ]
     },
     "metadata": {},
     "output_type": "display_data"
    }
   ],
   "source": [
    "try:\n",
    "    config = ConfigurationManager()\n",
    "    eda_config = config.get_eda_config()\n",
    "    eda_comp = EDAComponent(config= eda_config)\n",
    "    eda_comp.get_eda()\n",
    "except Exception as e :\n",
    "    raise e"
   ]
  },
  {
   "cell_type": "code",
   "execution_count": null,
   "id": "78e77336",
   "metadata": {},
   "outputs": [],
   "source": []
  }
 ],
 "metadata": {
  "kernelspec": {
   "display_name": "venv",
   "language": "python",
   "name": "python3"
  },
  "language_info": {
   "codemirror_mode": {
    "name": "ipython",
    "version": 3
   },
   "file_extension": ".py",
   "mimetype": "text/x-python",
   "name": "python",
   "nbconvert_exporter": "python",
   "pygments_lexer": "ipython3",
   "version": "3.10.10"
  }
 },
 "nbformat": 4,
 "nbformat_minor": 5
}
