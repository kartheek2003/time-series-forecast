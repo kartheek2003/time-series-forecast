{
 "cells": [
  {
   "cell_type": "code",
   "execution_count": 1,
   "id": "63842080",
   "metadata": {},
   "outputs": [],
   "source": [
    "import os"
   ]
  },
  {
   "cell_type": "code",
   "execution_count": 2,
   "id": "c514efff",
   "metadata": {},
   "outputs": [
    {
     "data": {
      "text/plain": [
       "'c:\\\\code\\\\ML\\\\time_series_forecast\\\\time-series-forecast\\\\research'"
      ]
     },
     "execution_count": 2,
     "metadata": {},
     "output_type": "execute_result"
    }
   ],
   "source": [
    "%pwd"
   ]
  },
  {
   "cell_type": "code",
   "execution_count": 3,
   "id": "3d311622",
   "metadata": {},
   "outputs": [],
   "source": [
    "os.chdir('../')"
   ]
  },
  {
   "cell_type": "code",
   "execution_count": 4,
   "id": "81637674",
   "metadata": {},
   "outputs": [
    {
     "data": {
      "text/plain": [
       "'c:\\\\code\\\\ML\\\\time_series_forecast\\\\time-series-forecast'"
      ]
     },
     "execution_count": 4,
     "metadata": {},
     "output_type": "execute_result"
    }
   ],
   "source": [
    "%pwd"
   ]
  },
  {
   "cell_type": "code",
   "execution_count": 5,
   "id": "dfc5edf2",
   "metadata": {},
   "outputs": [],
   "source": [
    "#config yaml"
   ]
  },
  {
   "cell_type": "code",
   "execution_count": 6,
   "id": "56affa7f",
   "metadata": {},
   "outputs": [],
   "source": [
    "#config entity\n",
    "from dataclasses import dataclass\n",
    "from pathlib import Path\n",
    "@dataclass\n",
    "class Model:\n",
    "    data_path : Path\n",
    "    report : Path\n",
    "    model_save_path : Path\n"
   ]
  },
  {
   "cell_type": "code",
   "execution_count": 7,
   "id": "c5f4f8e8",
   "metadata": {},
   "outputs": [],
   "source": [
    "#configuration"
   ]
  },
  {
   "cell_type": "code",
   "execution_count": 8,
   "id": "98da856a",
   "metadata": {},
   "outputs": [],
   "source": [
    "from src.time_series.constants import *\n",
    "from src.time_series.utils.common import create_directories , read_yaml\n",
    "from src.time_series.entity.config_entity import DataIngestionconfig,EDA\n",
    "\n",
    "\n",
    "\n",
    "class ConfigurationManager:\n",
    "    def __init__(self,config_file_path=CONFIG_FILE_PATH,params_file_path=PARAMS_FILE_PATH):\n",
    "        self.config = read_yaml(config_file_path)\n",
    "        self.params = read_yaml(params_file_path)\n",
    "        create_directories([self.config.artifacts_root])\n",
    "\n",
    "    def get_data_ingestion_config(self)->DataIngestionconfig:\n",
    "        config = self.config.data_ingestion\n",
    "        data_ingestion_config = DataIngestionconfig(root_dir= config.root_dir,source_url=config.source_url,local_data_file=config.local_data_file)\n",
    "        return data_ingestion_config\n",
    "    \n",
    "    def get_eda_config(self)->EDA:\n",
    "        config = self.config.EDA\n",
    "        create_directories([config.report_path])\n",
    "        create_directories([config.data_output])\n",
    "        eda_config = EDA(data_path= config.data_path,report_path=config.report_path,data_output=config.data_output)\n",
    "        return eda_config\n",
    "    \n",
    "    def get_model_config(self)->Model:\n",
    "        config = self.config.model\n",
    "        create_directories([config.report])\n",
    "        model_config = Model(data_path=config.data_path,report=config.report,model_save_path= config.model_save_path)\n",
    "        return model_config"
   ]
  },
  {
   "cell_type": "code",
   "execution_count": 9,
   "id": "63e458de",
   "metadata": {},
   "outputs": [],
   "source": [
    "#component"
   ]
  },
  {
   "cell_type": "code",
   "execution_count": 10,
   "id": "f5f1fcde",
   "metadata": {},
   "outputs": [
    {
     "name": "stdout",
     "output_type": "stream",
     "text": [
      "Requirement already satisfied: pmdarima in c:\\code\\ml\\time_series_forecast\\time-series-forecast\\venv\\lib\\site-packages (2.0.4)\n",
      "Requirement already satisfied: packaging>=17.1 in c:\\code\\ml\\time_series_forecast\\time-series-forecast\\venv\\lib\\site-packages (from pmdarima) (25.0)\n",
      "Requirement already satisfied: Cython!=0.29.18,!=0.29.31,>=0.29 in c:\\code\\ml\\time_series_forecast\\time-series-forecast\\venv\\lib\\site-packages (from pmdarima) (3.1.2)\n",
      "Requirement already satisfied: numpy>=1.21.2 in c:\\code\\ml\\time_series_forecast\\time-series-forecast\\venv\\lib\\site-packages (from pmdarima) (2.2.6)\n",
      "Requirement already satisfied: joblib>=0.11 in c:\\code\\ml\\time_series_forecast\\time-series-forecast\\venv\\lib\\site-packages (from pmdarima) (1.5.1)\n",
      "Requirement already satisfied: scikit-learn>=0.22 in c:\\code\\ml\\time_series_forecast\\time-series-forecast\\venv\\lib\\site-packages (from pmdarima) (1.7.0)\n",
      "Requirement already satisfied: scipy>=1.3.2 in c:\\code\\ml\\time_series_forecast\\time-series-forecast\\venv\\lib\\site-packages (from pmdarima) (1.15.3)\n",
      "Requirement already satisfied: setuptools!=50.0.0,>=38.6.0 in c:\\code\\ml\\time_series_forecast\\time-series-forecast\\venv\\lib\\site-packages (from pmdarima) (65.5.0)\n",
      "Requirement already satisfied: pandas>=0.19 in c:\\code\\ml\\time_series_forecast\\time-series-forecast\\venv\\lib\\site-packages (from pmdarima) (2.3.0)\n",
      "Requirement already satisfied: statsmodels>=0.13.2 in c:\\code\\ml\\time_series_forecast\\time-series-forecast\\venv\\lib\\site-packages (from pmdarima) (0.14.4)\n",
      "Requirement already satisfied: urllib3 in c:\\code\\ml\\time_series_forecast\\time-series-forecast\\venv\\lib\\site-packages (from pmdarima) (2.5.0)\n",
      "Requirement already satisfied: pytz>=2020.1 in c:\\code\\ml\\time_series_forecast\\time-series-forecast\\venv\\lib\\site-packages (from pandas>=0.19->pmdarima) (2025.2)\n",
      "Requirement already satisfied: python-dateutil>=2.8.2 in c:\\code\\ml\\time_series_forecast\\time-series-forecast\\venv\\lib\\site-packages (from pandas>=0.19->pmdarima) (2.9.0.post0)\n",
      "Requirement already satisfied: tzdata>=2022.7 in c:\\code\\ml\\time_series_forecast\\time-series-forecast\\venv\\lib\\site-packages (from pandas>=0.19->pmdarima) (2025.2)\n",
      "Requirement already satisfied: threadpoolctl>=3.1.0 in c:\\code\\ml\\time_series_forecast\\time-series-forecast\\venv\\lib\\site-packages (from scikit-learn>=0.22->pmdarima) (3.6.0)\n",
      "Requirement already satisfied: patsy>=0.5.6 in c:\\code\\ml\\time_series_forecast\\time-series-forecast\\venv\\lib\\site-packages (from statsmodels>=0.13.2->pmdarima) (1.0.1)\n",
      "Requirement already satisfied: six>=1.5 in c:\\code\\ml\\time_series_forecast\\time-series-forecast\\venv\\lib\\site-packages (from python-dateutil>=2.8.2->pandas>=0.19->pmdarima) (1.17.0)\n",
      "Note: you may need to restart the kernel to use updated packages.\n"
     ]
    },
    {
     "name": "stderr",
     "output_type": "stream",
     "text": [
      "\n",
      "[notice] A new release of pip available: 22.3.1 -> 25.1.1\n",
      "[notice] To update, run: python.exe -m pip install --upgrade pip\n"
     ]
    }
   ],
   "source": [
    "pip install pmdarima"
   ]
  },
  {
   "cell_type": "code",
   "execution_count": 11,
   "id": "930f30c1",
   "metadata": {},
   "outputs": [
    {
     "name": "stdout",
     "output_type": "stream",
     "text": [
      "Requirement already satisfied: prophet in c:\\code\\ml\\time_series_forecast\\time-series-forecast\\venv\\lib\\site-packages (1.1.7)Note: you may need to restart the kernel to use updated packages.\n"
     ]
    },
    {
     "name": "stderr",
     "output_type": "stream",
     "text": [
      "\n",
      "[notice] A new release of pip available: 22.3.1 -> 25.1.1\n",
      "[notice] To update, run: python.exe -m pip install --upgrade pip\n"
     ]
    },
    {
     "name": "stdout",
     "output_type": "stream",
     "text": [
      "\n",
      "Requirement already satisfied: matplotlib>=2.0.0 in c:\\code\\ml\\time_series_forecast\\time-series-forecast\\venv\\lib\\site-packages (from prophet) (3.10.3)\n",
      "Requirement already satisfied: cmdstanpy>=1.0.4 in c:\\code\\ml\\time_series_forecast\\time-series-forecast\\venv\\lib\\site-packages (from prophet) (1.2.5)\n",
      "Requirement already satisfied: tqdm>=4.36.1 in c:\\code\\ml\\time_series_forecast\\time-series-forecast\\venv\\lib\\site-packages (from prophet) (4.67.1)\n",
      "Requirement already satisfied: pandas>=1.0.4 in c:\\code\\ml\\time_series_forecast\\time-series-forecast\\venv\\lib\\site-packages (from prophet) (2.3.0)\n",
      "Requirement already satisfied: importlib_resources in c:\\code\\ml\\time_series_forecast\\time-series-forecast\\venv\\lib\\site-packages (from prophet) (6.5.2)\n",
      "Requirement already satisfied: numpy>=1.15.4 in c:\\code\\ml\\time_series_forecast\\time-series-forecast\\venv\\lib\\site-packages (from prophet) (2.2.6)\n",
      "Requirement already satisfied: holidays<1,>=0.25 in c:\\code\\ml\\time_series_forecast\\time-series-forecast\\venv\\lib\\site-packages (from prophet) (0.75)\n",
      "Requirement already satisfied: stanio<2.0.0,>=0.4.0 in c:\\code\\ml\\time_series_forecast\\time-series-forecast\\venv\\lib\\site-packages (from cmdstanpy>=1.0.4->prophet) (0.5.1)\n",
      "Requirement already satisfied: python-dateutil in c:\\code\\ml\\time_series_forecast\\time-series-forecast\\venv\\lib\\site-packages (from holidays<1,>=0.25->prophet) (2.9.0.post0)\n",
      "Requirement already satisfied: packaging>=20.0 in c:\\code\\ml\\time_series_forecast\\time-series-forecast\\venv\\lib\\site-packages (from matplotlib>=2.0.0->prophet) (25.0)\n",
      "Requirement already satisfied: fonttools>=4.22.0 in c:\\code\\ml\\time_series_forecast\\time-series-forecast\\venv\\lib\\site-packages (from matplotlib>=2.0.0->prophet) (4.58.4)\n",
      "Requirement already satisfied: cycler>=0.10 in c:\\code\\ml\\time_series_forecast\\time-series-forecast\\venv\\lib\\site-packages (from matplotlib>=2.0.0->prophet) (0.12.1)\n",
      "Requirement already satisfied: contourpy>=1.0.1 in c:\\code\\ml\\time_series_forecast\\time-series-forecast\\venv\\lib\\site-packages (from matplotlib>=2.0.0->prophet) (1.3.2)\n",
      "Requirement already satisfied: pillow>=8 in c:\\code\\ml\\time_series_forecast\\time-series-forecast\\venv\\lib\\site-packages (from matplotlib>=2.0.0->prophet) (11.3.0)\n",
      "Requirement already satisfied: pyparsing>=2.3.1 in c:\\code\\ml\\time_series_forecast\\time-series-forecast\\venv\\lib\\site-packages (from matplotlib>=2.0.0->prophet) (3.2.3)\n",
      "Requirement already satisfied: kiwisolver>=1.3.1 in c:\\code\\ml\\time_series_forecast\\time-series-forecast\\venv\\lib\\site-packages (from matplotlib>=2.0.0->prophet) (1.4.8)\n",
      "Requirement already satisfied: pytz>=2020.1 in c:\\code\\ml\\time_series_forecast\\time-series-forecast\\venv\\lib\\site-packages (from pandas>=1.0.4->prophet) (2025.2)\n",
      "Requirement already satisfied: tzdata>=2022.7 in c:\\code\\ml\\time_series_forecast\\time-series-forecast\\venv\\lib\\site-packages (from pandas>=1.0.4->prophet) (2025.2)\n",
      "Requirement already satisfied: colorama in c:\\code\\ml\\time_series_forecast\\time-series-forecast\\venv\\lib\\site-packages (from tqdm>=4.36.1->prophet) (0.4.6)\n",
      "Requirement already satisfied: six>=1.5 in c:\\code\\ml\\time_series_forecast\\time-series-forecast\\venv\\lib\\site-packages (from python-dateutil->holidays<1,>=0.25->prophet) (1.17.0)\n"
     ]
    }
   ],
   "source": [
    "pip install prophet\n"
   ]
  },
  {
   "cell_type": "code",
   "execution_count": 29,
   "id": "26ca544b",
   "metadata": {},
   "outputs": [],
   "source": [
    "import os\n",
    "import pandas as pd\n",
    "from pmdarima import auto_arima\n",
    "from prophet import Prophet \n",
    "import numpy as np\n",
    "from sklearn.metrics import mean_squared_error\n",
    "import joblib\n",
    "import matplotlib.pyplot as plt\n",
    "from src.time_series.logger import logger\n",
    "\n",
    "class ModelBuildingComponent:\n",
    "    def __init__(self, config):\n",
    "        self.config = config\n",
    "\n",
    "    def load_data(self):\n",
    "        if not os.path.exists(self.config.data_path):\n",
    "            raise FileNotFoundError(f\"Input file not found: {self.config.data_path}\")\n",
    "        return pd.read_csv(self.config.data_path, parse_dates=['Month'], index_col='Month')\n",
    "\n",
    "    def build_model(self):\n",
    "        df = self.load_data()\n",
    "        df.columns = ['passengers']\n",
    "\n",
    "        # Split the data\n",
    "        train = df[:-12]\n",
    "        test = df[-12:]\n",
    "\n",
    "        # ========== Auto ARIMA ==========\n",
    "        auto_arima_model = auto_arima(\n",
    "            train,\n",
    "            start_p=0, start_q=0,\n",
    "            max_p=3, max_q=3,\n",
    "            seasonal=True,\n",
    "            m=12,\n",
    "            d=1, D=1,\n",
    "            trace=True,\n",
    "            error_action='ignore',\n",
    "            suppress_warnings=True,\n",
    "            stepwise=True\n",
    "        )\n",
    "\n",
    "        # Save ARIMA summary\n",
    "        with open(os.path.join(self.config.report, 'data_report.txt'), 'a') as f:\n",
    "            f.write(\"\\n\\n--- AUTO ARIMA ---\\n\")\n",
    "            f.write(str(auto_arima_model.summary()))\n",
    "\n",
    "        # Forecast & RMSE\n",
    "        forecast_auto = auto_arima_model.predict(n_periods=12)\n",
    "        forecast_auto = pd.Series(forecast_auto, index=test.index)\n",
    "\n",
    "        rmse_auto = np.sqrt(mean_squared_error(test, forecast_auto))\n",
    "        with open(os.path.join(self.config.report, 'data_report.txt'), 'a') as f:\n",
    "            f.write(f\"\\nAuto ARIMA RMSE: {rmse_auto:.2f}\\n\")\n",
    "\n",
    "        # Plot\n",
    "        plt.figure(figsize=(10, 5))\n",
    "        plt.plot(train, label='Train')\n",
    "        plt.plot(test, label='Test')\n",
    "        plt.plot(forecast_auto, label='Auto ARIMA Forecast', color='orange')\n",
    "        plt.xlabel(\"Date\")\n",
    "        plt.ylabel(\"Passengers\")\n",
    "        plt.title(\"Auto ARIMA Forecast\")\n",
    "        plt.legend()\n",
    "        plt.grid(True)\n",
    "        plt.savefig(os.path.join(self.config.report, 'auto_arima_forecast.png'))\n",
    "        plt.clf()\n",
    "\n",
    "        # Save ARIMA model\n",
    "        joblib.dump(auto_arima_model, filename=os.path.join(self.config.model_save_path, 'auto_arima.pkl'))\n",
    "        logger.info(\"Auto ARIMA model saved.\")\n",
    "\n",
    "        # ========== Prophet ==========\n",
    "        df_prophet = df.reset_index().rename(columns={'Month': 'ds', 'passengers': 'y'})\n",
    "        train_prophet = df_prophet.iloc[:-12]\n",
    "        test_prophet = df_prophet.iloc[-12:]\n",
    "\n",
    "        prophet_model = Prophet(weekly_seasonality=False, yearly_seasonality=True)\n",
    "        prophet_model.fit(train_prophet)\n",
    "\n",
    "        future = prophet_model.make_future_dataframe(periods=12, freq='MS')\n",
    "        forecast = prophet_model.predict(future)\n",
    "\n",
    "        # Save Prophet model\n",
    "        joblib.dump(prophet_model, os.path.join(self.config.model_save_path, 'prophet.pkl'))\n",
    "        logger.info(\"Prophet model saved.\")\n",
    "\n",
    "        # Save forecast\n",
    "        forecast.to_csv(os.path.join(self.config.report, 'forecast.csv'))\n",
    "\n",
    "        # Evaluation\n",
    "        forecast_test = forecast.set_index('ds').loc[test_prophet['ds']]\n",
    "        forecast_series = forecast_test['yhat']\n",
    "        rmse_prophet = np.sqrt(mean_squared_error(test_prophet['y'], forecast_series))\n",
    "\n",
    "        with open(os.path.join(self.config.report, 'data_report.txt'), 'a') as f:\n",
    "            f.write(\"\\n\\n--- PROPHET ---\\n\")\n",
    "            f.write(f\"PROPHET RMSE: {rmse_prophet:.2f}\\n\")\n",
    "\n",
    "        # Forecast plot\n",
    "        fig = prophet_model.plot(forecast)\n",
    "        fig.suptitle(\"Prophet Forecast\")\n",
    "        fig.set_size_inches(10, 5)\n",
    "        plt.xlabel(\"Date\")\n",
    "        plt.ylabel(\"Passengers\")\n",
    "        fig.savefig(os.path.join(self.config.report, 'prophet_forecast.png'))\n",
    "        plt.clf()\n",
    "\n",
    "        # Components plot\n",
    "        fig2 = prophet_model.plot_components(forecast)\n",
    "        fig2.set_size_inches(10, 8)\n",
    "        fig2.savefig(os.path.join(self.config.report, 'prophet_components.png'))\n",
    "        plt.clf()\n",
    "\n",
    "        logger.info(\"Forecasts and plots saved.\")\n"
   ]
  },
  {
   "cell_type": "code",
   "execution_count": 30,
   "id": "cc462b2b",
   "metadata": {},
   "outputs": [],
   "source": [
    "# pipeline"
   ]
  },
  {
   "cell_type": "code",
   "execution_count": 31,
   "id": "55cd4ae1",
   "metadata": {},
   "outputs": [
    {
     "name": "stdout",
     "output_type": "stream",
     "text": [
      "[2025-07-04 18:20:55,936: INFO: common: yaml file: config\\config.yaml loaded successfully]\n",
      "[2025-07-04 18:20:55,940: INFO: common: yaml file: params.yaml loaded successfully]\n",
      "[2025-07-04 18:20:55,943: INFO: common: created directory at: artifacts]\n",
      "[2025-07-04 18:20:55,947: INFO: common: created directory at: artifacts/model]\n",
      "Performing stepwise search to minimize aic\n"
     ]
    },
    {
     "name": "stderr",
     "output_type": "stream",
     "text": [
      "c:\\code\\ML\\time_series_forecast\\time-series-forecast\\venv\\lib\\site-packages\\sklearn\\utils\\deprecation.py:132: FutureWarning: 'force_all_finite' was renamed to 'ensure_all_finite' in 1.6 and will be removed in 1.8.\n",
      "  warnings.warn(\n",
      "c:\\code\\ML\\time_series_forecast\\time-series-forecast\\venv\\lib\\site-packages\\sklearn\\utils\\deprecation.py:132: FutureWarning: 'force_all_finite' was renamed to 'ensure_all_finite' in 1.6 and will be removed in 1.8.\n",
      "  warnings.warn(\n"
     ]
    },
    {
     "name": "stdout",
     "output_type": "stream",
     "text": [
      " ARIMA(0,1,0)(1,1,1)[12]             : AIC=inf, Time=1.83 sec\n",
      " ARIMA(0,1,0)(0,1,0)[12]             : AIC=905.065, Time=0.02 sec\n"
     ]
    },
    {
     "name": "stderr",
     "output_type": "stream",
     "text": [
      "c:\\code\\ML\\time_series_forecast\\time-series-forecast\\venv\\lib\\site-packages\\sklearn\\utils\\deprecation.py:132: FutureWarning: 'force_all_finite' was renamed to 'ensure_all_finite' in 1.6 and will be removed in 1.8.\n",
      "  warnings.warn(\n",
      "c:\\code\\ML\\time_series_forecast\\time-series-forecast\\venv\\lib\\site-packages\\sklearn\\utils\\deprecation.py:132: FutureWarning: 'force_all_finite' was renamed to 'ensure_all_finite' in 1.6 and will be removed in 1.8.\n",
      "  warnings.warn(\n"
     ]
    },
    {
     "name": "stdout",
     "output_type": "stream",
     "text": [
      " ARIMA(1,1,0)(1,1,0)[12]             : AIC=900.823, Time=0.23 sec\n"
     ]
    },
    {
     "name": "stderr",
     "output_type": "stream",
     "text": [
      "c:\\code\\ML\\time_series_forecast\\time-series-forecast\\venv\\lib\\site-packages\\sklearn\\utils\\deprecation.py:132: FutureWarning: 'force_all_finite' was renamed to 'ensure_all_finite' in 1.6 and will be removed in 1.8.\n",
      "  warnings.warn(\n"
     ]
    },
    {
     "name": "stdout",
     "output_type": "stream",
     "text": [
      " ARIMA(0,1,1)(0,1,1)[12]             : AIC=901.721, Time=0.44 sec\n",
      " ARIMA(1,1,0)(0,1,0)[12]             : AIC=899.902, Time=0.06 sec\n"
     ]
    },
    {
     "name": "stderr",
     "output_type": "stream",
     "text": [
      "c:\\code\\ML\\time_series_forecast\\time-series-forecast\\venv\\lib\\site-packages\\sklearn\\utils\\deprecation.py:132: FutureWarning: 'force_all_finite' was renamed to 'ensure_all_finite' in 1.6 and will be removed in 1.8.\n",
      "  warnings.warn(\n",
      "c:\\code\\ML\\time_series_forecast\\time-series-forecast\\venv\\lib\\site-packages\\sklearn\\utils\\deprecation.py:132: FutureWarning: 'force_all_finite' was renamed to 'ensure_all_finite' in 1.6 and will be removed in 1.8.\n",
      "  warnings.warn(\n"
     ]
    },
    {
     "name": "stdout",
     "output_type": "stream",
     "text": [
      " ARIMA(1,1,0)(0,1,1)[12]             : AIC=901.052, Time=0.52 sec\n"
     ]
    },
    {
     "name": "stderr",
     "output_type": "stream",
     "text": [
      "c:\\code\\ML\\time_series_forecast\\time-series-forecast\\venv\\lib\\site-packages\\sklearn\\utils\\deprecation.py:132: FutureWarning: 'force_all_finite' was renamed to 'ensure_all_finite' in 1.6 and will be removed in 1.8.\n",
      "  warnings.warn(\n"
     ]
    },
    {
     "name": "stdout",
     "output_type": "stream",
     "text": [
      " ARIMA(1,1,0)(1,1,1)[12]             : AIC=inf, Time=2.99 sec\n",
      " ARIMA(2,1,0)(0,1,0)[12]             : AIC=901.337, Time=0.12 sec\n"
     ]
    },
    {
     "name": "stderr",
     "output_type": "stream",
     "text": [
      "c:\\code\\ML\\time_series_forecast\\time-series-forecast\\venv\\lib\\site-packages\\sklearn\\utils\\deprecation.py:132: FutureWarning: 'force_all_finite' was renamed to 'ensure_all_finite' in 1.6 and will be removed in 1.8.\n",
      "  warnings.warn(\n",
      "c:\\code\\ML\\time_series_forecast\\time-series-forecast\\venv\\lib\\site-packages\\sklearn\\utils\\deprecation.py:132: FutureWarning: 'force_all_finite' was renamed to 'ensure_all_finite' in 1.6 and will be removed in 1.8.\n",
      "  warnings.warn(\n"
     ]
    },
    {
     "name": "stdout",
     "output_type": "stream",
     "text": [
      " ARIMA(1,1,1)(0,1,0)[12]             : AIC=900.971, Time=0.13 sec\n",
      " ARIMA(0,1,1)(0,1,0)[12]             : AIC=900.685, Time=0.09 sec\n"
     ]
    },
    {
     "name": "stderr",
     "output_type": "stream",
     "text": [
      "c:\\code\\ML\\time_series_forecast\\time-series-forecast\\venv\\lib\\site-packages\\sklearn\\utils\\deprecation.py:132: FutureWarning: 'force_all_finite' was renamed to 'ensure_all_finite' in 1.6 and will be removed in 1.8.\n",
      "  warnings.warn(\n",
      "c:\\code\\ML\\time_series_forecast\\time-series-forecast\\venv\\lib\\site-packages\\sklearn\\utils\\deprecation.py:132: FutureWarning: 'force_all_finite' was renamed to 'ensure_all_finite' in 1.6 and will be removed in 1.8.\n",
      "  warnings.warn(\n"
     ]
    },
    {
     "name": "stdout",
     "output_type": "stream",
     "text": [
      " ARIMA(2,1,1)(0,1,0)[12]             : AIC=902.967, Time=0.35 sec\n",
      " ARIMA(1,1,0)(0,1,0)[12] intercept   : AIC=901.457, Time=0.18 sec\n",
      "\n",
      "Best model:  ARIMA(1,1,0)(0,1,0)[12]          \n",
      "Total fit time: 6.958 seconds\n"
     ]
    },
    {
     "name": "stderr",
     "output_type": "stream",
     "text": [
      "c:\\code\\ML\\time_series_forecast\\time-series-forecast\\venv\\lib\\site-packages\\sklearn\\utils\\deprecation.py:132: FutureWarning: 'force_all_finite' was renamed to 'ensure_all_finite' in 1.6 and will be removed in 1.8.\n",
      "  warnings.warn(\n",
      "c:\\code\\ML\\time_series_forecast\\time-series-forecast\\venv\\lib\\site-packages\\sklearn\\utils\\deprecation.py:132: FutureWarning: 'force_all_finite' was renamed to 'ensure_all_finite' in 1.6 and will be removed in 1.8.\n",
      "  warnings.warn(\n"
     ]
    },
    {
     "name": "stdout",
     "output_type": "stream",
     "text": [
      "[2025-07-04 18:21:03,940: INFO: 4062261798: Auto ARIMA model saved.]\n",
      "[2025-07-04 18:21:03,956: DEBUG: command: cmd: where.exe tbb.dll\n",
      "cwd: None]\n",
      "[2025-07-04 18:21:04,309: DEBUG: model: TBB already found in load path]\n",
      "[2025-07-04 18:21:04,340: INFO: forecaster: Disabling daily seasonality. Run prophet with daily_seasonality=True to override this.]\n",
      "[2025-07-04 18:21:04,412: DEBUG: filesystem: input tempfile: C:\\Users\\kk687\\AppData\\Local\\Temp\\tmpgwz7ix60\\nv4qu3m0.json]\n",
      "[2025-07-04 18:21:04,453: DEBUG: filesystem: input tempfile: C:\\Users\\kk687\\AppData\\Local\\Temp\\tmpgwz7ix60\\2b5tsn0e.json]\n",
      "[2025-07-04 18:21:04,469: DEBUG: model: idx 0]\n",
      "[2025-07-04 18:21:04,469: DEBUG: model: running CmdStan, num_threads: None]\n",
      "[2025-07-04 18:21:04,476: DEBUG: model: CmdStan args: ['C:\\\\code\\\\ML\\\\time_series_forecast\\\\time-series-forecast\\\\venv\\\\Lib\\\\site-packages\\\\prophet\\\\stan_model\\\\prophet_model.bin', 'random', 'seed=13150', 'data', 'file=C:\\\\Users\\\\kk687\\\\AppData\\\\Local\\\\Temp\\\\tmpgwz7ix60\\\\nv4qu3m0.json', 'init=C:\\\\Users\\\\kk687\\\\AppData\\\\Local\\\\Temp\\\\tmpgwz7ix60\\\\2b5tsn0e.json', 'output', 'file=C:\\\\Users\\\\kk687\\\\AppData\\\\Local\\\\Temp\\\\tmpgwz7ix60\\\\prophet_modelsh27x453\\\\prophet_model-20250704182104.csv', 'method=optimize', 'algorithm=lbfgs', 'iter=10000']]\n"
     ]
    },
    {
     "name": "stderr",
     "output_type": "stream",
     "text": [
      "18:21:04 - cmdstanpy - INFO - Chain [1] start processing\n"
     ]
    },
    {
     "name": "stdout",
     "output_type": "stream",
     "text": [
      "[2025-07-04 18:21:04,482: INFO: model: Chain [1] start processing]\n"
     ]
    },
    {
     "name": "stderr",
     "output_type": "stream",
     "text": [
      "18:21:04 - cmdstanpy - INFO - Chain [1] done processing\n"
     ]
    },
    {
     "name": "stdout",
     "output_type": "stream",
     "text": [
      "[2025-07-04 18:21:04,704: INFO: model: Chain [1] done processing]\n",
      "[2025-07-04 18:21:05,042: INFO: 4062261798: Prophet model saved.]\n",
      "[2025-07-04 18:21:06,627: INFO: 4062261798: Forecasts and plots saved.]\n"
     ]
    },
    {
     "data": {
      "text/plain": [
       "<Figure size 1000x500 with 0 Axes>"
      ]
     },
     "metadata": {},
     "output_type": "display_data"
    },
    {
     "data": {
      "text/plain": [
       "<Figure size 1000x500 with 0 Axes>"
      ]
     },
     "metadata": {},
     "output_type": "display_data"
    },
    {
     "data": {
      "text/plain": [
       "<Figure size 1000x800 with 0 Axes>"
      ]
     },
     "metadata": {},
     "output_type": "display_data"
    }
   ],
   "source": [
    "try:\n",
    "    config = ConfigurationManager()\n",
    "    model_config = config.get_model_config()\n",
    "    model_build_comp = ModelBuildingComponent(config= model_config)\n",
    "    model_build_comp.build_model()\n",
    "except Exception as e:\n",
    "    raise e\n"
   ]
  },
  {
   "cell_type": "code",
   "execution_count": null,
   "id": "5b05f58f",
   "metadata": {},
   "outputs": [],
   "source": [
    " "
   ]
  }
 ],
 "metadata": {
  "kernelspec": {
   "display_name": "venv",
   "language": "python",
   "name": "python3"
  },
  "language_info": {
   "codemirror_mode": {
    "name": "ipython",
    "version": 3
   },
   "file_extension": ".py",
   "mimetype": "text/x-python",
   "name": "python",
   "nbconvert_exporter": "python",
   "pygments_lexer": "ipython3",
   "version": "3.10.10"
  }
 },
 "nbformat": 4,
 "nbformat_minor": 5
}
